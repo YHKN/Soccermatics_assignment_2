{
 "cells": [
  {
   "cell_type": "code",
   "execution_count": 1,
   "metadata": {
    "collapsed": true
   },
   "outputs": [],
   "source": [
    "%matplotlib inline\n",
    "import pandas as pd\n",
    "import numpy as np\n",
    "import json\n",
    "# plotting\n",
    "import matplotlib.pyplot as plt\n",
    "# statistical fitting of models\n",
    "import statsmodels.api as sm\n",
    "import statsmodels.formula.api as smf\n",
    "#opening data\n",
    "import os\n",
    "import pathlib\n",
    "import warnings\n",
    "#used for plots\n",
    "from scipy import stats\n",
    "from mplsoccer import PyPizza, FontManager\n",
    "\n",
    "pd.options.mode.chained_assignment = None\n",
    "warnings.filterwarnings('ignore')"
   ]
  },
  {
   "cell_type": "code",
   "execution_count": 2,
   "outputs": [
    {
     "data": {
      "text/plain": "     playerId  minutesPlayed  ground_duels_won  ground_duels  fouls_committed  \\\n0          36           1238              17.0          75.0              8.0   \n1          48           3343              71.0         212.0             20.0   \n2        8292            838              12.0          61.0             11.0   \n3        8945           2009              28.0         158.0             18.0   \n4       25785           1484              35.0         153.0             19.0   \n..        ...            ...               ...           ...              ...   \n131      9285           3164              42.0         166.0              6.0   \n132    134102           3539              61.0         227.0             27.0   \n133     25885            457              10.0          28.0              4.0   \n134     49859            805              12.0          60.0              7.0   \n135     65254           1389              24.0         105.0             19.0   \n\n     air_duels  air_duels_won  duels_won_own_half  fouls_committed_own_half  \\\n0         55.0           23.0                36.0                       6.0   \n1        213.0          137.0               168.0                      12.0   \n2         17.0            7.0                11.0                       6.0   \n3         84.0           41.0                55.0                       8.0   \n4         91.0           51.0                61.0                       9.0   \n..         ...            ...                 ...                       ...   \n131      107.0           52.0                72.0                       3.0   \n132      239.0          120.0               150.0                      15.0   \n133       22.0           18.0                22.0                       2.0   \n134       26.0           14.0                23.0                       4.0   \n135       46.0           21.0                44.0                      16.0   \n\n     interceptions  ...  ground_duels_won_adjusted_per90  \\\n0              6.0  ...                         3.069969   \n1             23.0  ...                         4.746548   \n2              7.0  ...                         3.370792   \n3              8.0  ...                         3.008310   \n4              8.0  ...                         5.421722   \n..             ...  ...                              ...   \n131           19.0  ...                         2.306922   \n132           18.0  ...                         2.970612   \n133            4.0  ...                         3.559482   \n134            8.0  ...                         2.660443   \n135           11.0  ...                         2.721299   \n\n     ground_duels_adjusted_per90  fouls_committed_adjusted_per90  \\\n0                      13.543979                        1.444691   \n1                      14.172793                        1.337056   \n2                      17.134861                        3.089893   \n3                      16.975461                        1.933913   \n4                      23.700669                        2.943220   \n..                           ...                             ...   \n131                     9.117834                        0.329560   \n132                    11.054571                        1.314861   \n133                     9.966551                        1.423793   \n134                    13.302214                        1.551925   \n135                    11.905681                        2.154361   \n\n     air_duels_adjusted_per90  air_duels_won_adjusted_per90  \\\n0                    9.932251                      4.153487   \n1                   14.239645                      9.158833   \n2                    4.775289                      1.966296   \n3                    9.024929                      4.405025   \n4                   14.096476                      7.900223   \n..                        ...                           ...   \n131                  5.877158                      2.856189   \n132                 11.638953                      5.843826   \n133                  7.830861                      6.407068   \n134                  5.764293                      3.103850   \n135                  5.215822                      2.381136   \n\n     duels_won_own_half_adjusted_per90  \\\n0                             6.501110   \n1                            11.231270   \n2                             3.089893   \n3                             5.909180   \n4                             9.449286   \n..                                 ...   \n131                           3.954723   \n132                           7.304782   \n133                           7.830861   \n134                           5.099182   \n135                           4.989047   \n\n     fouls_committed_own_half_adjusted_per90 interceptions_adjusted_per90  \\\n0                                   1.083518                     1.083518   \n1                                   0.802234                     1.537614   \n2                                   1.685396                     1.966296   \n3                                   0.859517                     0.859517   \n4                                   1.394157                     1.239251   \n..                                       ...                          ...   \n131                                 0.164780                     1.043608   \n132                                 0.730478                     0.876574   \n133                                 0.711896                     1.423793   \n134                                 0.886814                     1.773629   \n135                                 1.814199                     1.247262   \n\n     vs_dribbles_adjusted_per90 won_vs_dribbles_adjusted_per90  \n0                      7.404042                       1.986450  \n1                      4.612843                       1.270203  \n2                      7.303384                       1.685396  \n3                      8.487731                       1.504155  \n4                     10.223818                       1.703970  \n..                          ...                            ...  \n131                    4.778624                       0.988681  \n132                    4.236774                       0.925272  \n133                    4.271379                       2.135689  \n134                    7.316218                       1.108518  \n135                    5.442597                       0.566937  \n\n[136 rows x 32 columns]",
      "text/html": "<div>\n<style scoped>\n    .dataframe tbody tr th:only-of-type {\n        vertical-align: middle;\n    }\n\n    .dataframe tbody tr th {\n        vertical-align: top;\n    }\n\n    .dataframe thead th {\n        text-align: right;\n    }\n</style>\n<table border=\"1\" class=\"dataframe\">\n  <thead>\n    <tr style=\"text-align: right;\">\n      <th></th>\n      <th>playerId</th>\n      <th>minutesPlayed</th>\n      <th>ground_duels_won</th>\n      <th>ground_duels</th>\n      <th>fouls_committed</th>\n      <th>air_duels</th>\n      <th>air_duels_won</th>\n      <th>duels_won_own_half</th>\n      <th>fouls_committed_own_half</th>\n      <th>interceptions</th>\n      <th>...</th>\n      <th>ground_duels_won_adjusted_per90</th>\n      <th>ground_duels_adjusted_per90</th>\n      <th>fouls_committed_adjusted_per90</th>\n      <th>air_duels_adjusted_per90</th>\n      <th>air_duels_won_adjusted_per90</th>\n      <th>duels_won_own_half_adjusted_per90</th>\n      <th>fouls_committed_own_half_adjusted_per90</th>\n      <th>interceptions_adjusted_per90</th>\n      <th>vs_dribbles_adjusted_per90</th>\n      <th>won_vs_dribbles_adjusted_per90</th>\n    </tr>\n  </thead>\n  <tbody>\n    <tr>\n      <th>0</th>\n      <td>36</td>\n      <td>1238</td>\n      <td>17.0</td>\n      <td>75.0</td>\n      <td>8.0</td>\n      <td>55.0</td>\n      <td>23.0</td>\n      <td>36.0</td>\n      <td>6.0</td>\n      <td>6.0</td>\n      <td>...</td>\n      <td>3.069969</td>\n      <td>13.543979</td>\n      <td>1.444691</td>\n      <td>9.932251</td>\n      <td>4.153487</td>\n      <td>6.501110</td>\n      <td>1.083518</td>\n      <td>1.083518</td>\n      <td>7.404042</td>\n      <td>1.986450</td>\n    </tr>\n    <tr>\n      <th>1</th>\n      <td>48</td>\n      <td>3343</td>\n      <td>71.0</td>\n      <td>212.0</td>\n      <td>20.0</td>\n      <td>213.0</td>\n      <td>137.0</td>\n      <td>168.0</td>\n      <td>12.0</td>\n      <td>23.0</td>\n      <td>...</td>\n      <td>4.746548</td>\n      <td>14.172793</td>\n      <td>1.337056</td>\n      <td>14.239645</td>\n      <td>9.158833</td>\n      <td>11.231270</td>\n      <td>0.802234</td>\n      <td>1.537614</td>\n      <td>4.612843</td>\n      <td>1.270203</td>\n    </tr>\n    <tr>\n      <th>2</th>\n      <td>8292</td>\n      <td>838</td>\n      <td>12.0</td>\n      <td>61.0</td>\n      <td>11.0</td>\n      <td>17.0</td>\n      <td>7.0</td>\n      <td>11.0</td>\n      <td>6.0</td>\n      <td>7.0</td>\n      <td>...</td>\n      <td>3.370792</td>\n      <td>17.134861</td>\n      <td>3.089893</td>\n      <td>4.775289</td>\n      <td>1.966296</td>\n      <td>3.089893</td>\n      <td>1.685396</td>\n      <td>1.966296</td>\n      <td>7.303384</td>\n      <td>1.685396</td>\n    </tr>\n    <tr>\n      <th>3</th>\n      <td>8945</td>\n      <td>2009</td>\n      <td>28.0</td>\n      <td>158.0</td>\n      <td>18.0</td>\n      <td>84.0</td>\n      <td>41.0</td>\n      <td>55.0</td>\n      <td>8.0</td>\n      <td>8.0</td>\n      <td>...</td>\n      <td>3.008310</td>\n      <td>16.975461</td>\n      <td>1.933913</td>\n      <td>9.024929</td>\n      <td>4.405025</td>\n      <td>5.909180</td>\n      <td>0.859517</td>\n      <td>0.859517</td>\n      <td>8.487731</td>\n      <td>1.504155</td>\n    </tr>\n    <tr>\n      <th>4</th>\n      <td>25785</td>\n      <td>1484</td>\n      <td>35.0</td>\n      <td>153.0</td>\n      <td>19.0</td>\n      <td>91.0</td>\n      <td>51.0</td>\n      <td>61.0</td>\n      <td>9.0</td>\n      <td>8.0</td>\n      <td>...</td>\n      <td>5.421722</td>\n      <td>23.700669</td>\n      <td>2.943220</td>\n      <td>14.096476</td>\n      <td>7.900223</td>\n      <td>9.449286</td>\n      <td>1.394157</td>\n      <td>1.239251</td>\n      <td>10.223818</td>\n      <td>1.703970</td>\n    </tr>\n    <tr>\n      <th>...</th>\n      <td>...</td>\n      <td>...</td>\n      <td>...</td>\n      <td>...</td>\n      <td>...</td>\n      <td>...</td>\n      <td>...</td>\n      <td>...</td>\n      <td>...</td>\n      <td>...</td>\n      <td>...</td>\n      <td>...</td>\n      <td>...</td>\n      <td>...</td>\n      <td>...</td>\n      <td>...</td>\n      <td>...</td>\n      <td>...</td>\n      <td>...</td>\n      <td>...</td>\n      <td>...</td>\n    </tr>\n    <tr>\n      <th>131</th>\n      <td>9285</td>\n      <td>3164</td>\n      <td>42.0</td>\n      <td>166.0</td>\n      <td>6.0</td>\n      <td>107.0</td>\n      <td>52.0</td>\n      <td>72.0</td>\n      <td>3.0</td>\n      <td>19.0</td>\n      <td>...</td>\n      <td>2.306922</td>\n      <td>9.117834</td>\n      <td>0.329560</td>\n      <td>5.877158</td>\n      <td>2.856189</td>\n      <td>3.954723</td>\n      <td>0.164780</td>\n      <td>1.043608</td>\n      <td>4.778624</td>\n      <td>0.988681</td>\n    </tr>\n    <tr>\n      <th>132</th>\n      <td>134102</td>\n      <td>3539</td>\n      <td>61.0</td>\n      <td>227.0</td>\n      <td>27.0</td>\n      <td>239.0</td>\n      <td>120.0</td>\n      <td>150.0</td>\n      <td>15.0</td>\n      <td>18.0</td>\n      <td>...</td>\n      <td>2.970612</td>\n      <td>11.054571</td>\n      <td>1.314861</td>\n      <td>11.638953</td>\n      <td>5.843826</td>\n      <td>7.304782</td>\n      <td>0.730478</td>\n      <td>0.876574</td>\n      <td>4.236774</td>\n      <td>0.925272</td>\n    </tr>\n    <tr>\n      <th>133</th>\n      <td>25885</td>\n      <td>457</td>\n      <td>10.0</td>\n      <td>28.0</td>\n      <td>4.0</td>\n      <td>22.0</td>\n      <td>18.0</td>\n      <td>22.0</td>\n      <td>2.0</td>\n      <td>4.0</td>\n      <td>...</td>\n      <td>3.559482</td>\n      <td>9.966551</td>\n      <td>1.423793</td>\n      <td>7.830861</td>\n      <td>6.407068</td>\n      <td>7.830861</td>\n      <td>0.711896</td>\n      <td>1.423793</td>\n      <td>4.271379</td>\n      <td>2.135689</td>\n    </tr>\n    <tr>\n      <th>134</th>\n      <td>49859</td>\n      <td>805</td>\n      <td>12.0</td>\n      <td>60.0</td>\n      <td>7.0</td>\n      <td>26.0</td>\n      <td>14.0</td>\n      <td>23.0</td>\n      <td>4.0</td>\n      <td>8.0</td>\n      <td>...</td>\n      <td>2.660443</td>\n      <td>13.302214</td>\n      <td>1.551925</td>\n      <td>5.764293</td>\n      <td>3.103850</td>\n      <td>5.099182</td>\n      <td>0.886814</td>\n      <td>1.773629</td>\n      <td>7.316218</td>\n      <td>1.108518</td>\n    </tr>\n    <tr>\n      <th>135</th>\n      <td>65254</td>\n      <td>1389</td>\n      <td>24.0</td>\n      <td>105.0</td>\n      <td>19.0</td>\n      <td>46.0</td>\n      <td>21.0</td>\n      <td>44.0</td>\n      <td>16.0</td>\n      <td>11.0</td>\n      <td>...</td>\n      <td>2.721299</td>\n      <td>11.905681</td>\n      <td>2.154361</td>\n      <td>5.215822</td>\n      <td>2.381136</td>\n      <td>4.989047</td>\n      <td>1.814199</td>\n      <td>1.247262</td>\n      <td>5.442597</td>\n      <td>0.566937</td>\n    </tr>\n  </tbody>\n</table>\n<p>136 rows × 32 columns</p>\n</div>"
     },
     "execution_count": 2,
     "metadata": {},
     "output_type": "execute_result"
    }
   ],
   "source": [
    "df = pd.read_csv(\"england_defender_radardata.csv\", index_col=0)\n",
    "df"
   ],
   "metadata": {
    "collapsed": false,
    "pycharm": {
     "name": "#%%\n"
    }
   }
  },
  {
   "cell_type": "code",
   "execution_count": 3,
   "outputs": [
    {
     "data": {
      "text/plain": "           name position  value  age\n0  Bruno Saltor       RB   0.75   36\n1      S. Duffy       CB  12.00   25\n2       L. Dunk       CB  10.00   25\n3  E. Schelotto       RB   4.50   28\n4       G. Bong       LB   1.50   29\n5    M. Suttner       LB   2.50   30",
      "text/html": "<div>\n<style scoped>\n    .dataframe tbody tr th:only-of-type {\n        vertical-align: middle;\n    }\n\n    .dataframe tbody tr th {\n        vertical-align: top;\n    }\n\n    .dataframe thead th {\n        text-align: right;\n    }\n</style>\n<table border=\"1\" class=\"dataframe\">\n  <thead>\n    <tr style=\"text-align: right;\">\n      <th></th>\n      <th>name</th>\n      <th>position</th>\n      <th>value</th>\n      <th>age</th>\n    </tr>\n  </thead>\n  <tbody>\n    <tr>\n      <th>0</th>\n      <td>Bruno Saltor</td>\n      <td>RB</td>\n      <td>0.75</td>\n      <td>36</td>\n    </tr>\n    <tr>\n      <th>1</th>\n      <td>S. Duffy</td>\n      <td>CB</td>\n      <td>12.00</td>\n      <td>25</td>\n    </tr>\n    <tr>\n      <th>2</th>\n      <td>L. Dunk</td>\n      <td>CB</td>\n      <td>10.00</td>\n      <td>25</td>\n    </tr>\n    <tr>\n      <th>3</th>\n      <td>E. Schelotto</td>\n      <td>RB</td>\n      <td>4.50</td>\n      <td>28</td>\n    </tr>\n    <tr>\n      <th>4</th>\n      <td>G. Bong</td>\n      <td>LB</td>\n      <td>1.50</td>\n      <td>29</td>\n    </tr>\n    <tr>\n      <th>5</th>\n      <td>M. Suttner</td>\n      <td>LB</td>\n      <td>2.50</td>\n      <td>30</td>\n    </tr>\n  </tbody>\n</table>\n</div>"
     },
     "execution_count": 3,
     "metadata": {},
     "output_type": "execute_result"
    }
   ],
   "source": [
    "team = \"Brighton & Hove Albion\"\n",
    "player_names = df.loc[df[\"teamName\"] == team][\"shortName\"].tolist()\n",
    "positions = ['RB','CB','CB','RB','LB','LB']\n",
    "market_values = [0.75,12,10,4.5,1.5,2.5]\n",
    "ages = [36,25,25,28,29,30]\n",
    "team_defenders = pd.DataFrame({'name':player_names,'position':positions,'value':market_values,'age':ages})\n",
    "team_defenders"
   ],
   "metadata": {
    "collapsed": false,
    "pycharm": {
     "name": "#%%\n"
    }
   }
  },
  {
   "cell_type": "code",
   "execution_count": null,
   "outputs": [],
   "source": [
    "def create_radar(player,position,value,age,team):\n",
    "    player_df = df.loc[df[\"shortName\"] == player]\n",
    "    player_df = player_df[[\"minutesPlayed\",\"foul_per_won_duel_own_half\",\"interceptions_adjusted_per90\",\"air_duels_won%\",\"ground_duels_won%\",\"won_vs_dribbles%\"]]\n",
    "    nineties = round(player_df.iloc[0,0]/90,2)\n",
    "    player_columns = player_df.columns[1:]\n",
    "    player_values = [round(player_df[column].iloc[0],2) for column in player_columns]\n",
    "    percentiles = [int(stats.percentileofscore(df[column], player_df[column].iloc[0])) for column in player_columns]\n",
    "    percentiles[0] = 100 - percentiles[0]\n",
    "    team_percentiles.append([player]+percentiles)\n",
    "\n",
    "    #list of names on plots\n",
    "    names = [\"Fouls per won Duel in own Half\", \"Interceptions (possession adjusted per 90)\", \"Air Duels Win Rate\", \"Ground Duels Win Rate\", \"Success rate defending vs Dribbles\"]\n",
    "    slice_colors = [\"#005DAA\"] * 5\n",
    "    text_colors = [\"#005DAA\"]*5\n",
    "    textbox_colors = [\"white\"]*5\n",
    "    font_normal = FontManager((\"https://github.com/google/fonts/blob/main/apache/roboto/\"\n",
    "                               \"Roboto%5Bwdth,wght%5D.ttf?raw=true\"))\n",
    "    font_bold = FontManager((\"https://github.com/google/fonts/blob/main/apache/robotoslab/\"\n",
    "                             \"RobotoSlab%5Bwght%5D.ttf?raw=true\"))\n",
    "    #PIZZA PLOT\n",
    "    baker = PyPizza(\n",
    "        params=names,\n",
    "        min_range = None,\n",
    "        max_range = None,               # list of parameters\n",
    "        background_color=\"white\",\n",
    "        straight_line_color=\"#005DAA\",  # color for straight lines\n",
    "        straight_line_lw=1,             # linewidth for straight lines\n",
    "        last_circle_color=\"#005DAA\",\n",
    "        last_circle_lw=1,               # linewidth of last circle\n",
    "        other_circle_color=\"#005DAA\",\n",
    "        other_circle_lw=1,              # linewidth for other circles\n",
    "        other_circle_ls=\"-.\"            # linestyle for other circles\n",
    "    )\n",
    "\n",
    "    #making pizza for our data\n",
    "    fig, ax = baker.make_pizza(\n",
    "        percentiles,              # list of values\n",
    "        figsize=(5, 5),      # adjust figsize according to your need\n",
    "        param_location=110,\n",
    "        slice_colors=slice_colors,\n",
    "        value_colors = text_colors,\n",
    "        value_bck_colors=textbox_colors, # where the parameters will be added\n",
    "        #        color_blank_space=[\"#005DAA\"]*5,\n",
    "        #        blank_alpha=1,\n",
    "        kwargs_slices=dict(\n",
    "            facecolor=\"#005DAA\", edgecolor=\"white\",\n",
    "            zorder=2, linewidth=1\n",
    "        ),                   # values to be used when plotting slices\n",
    "        kwargs_params=dict(\n",
    "            color=\"#005DAA\", fontsize=18,\n",
    "            fontproperties=font_normal.prop, va=\"center\"\n",
    "        ),                   # values to be used when adding parameter\n",
    "        kwargs_values=dict(\n",
    "            color=\"#005DAA\", fontsize=18,\n",
    "            fontproperties=font_normal.prop, zorder=3,\n",
    "            bbox=dict(\n",
    "                facecolor=\"white\",edgecolor=\"#005DAA\",\n",
    "                boxstyle=\"round,pad=0.2\", lw=1\n",
    "            )\n",
    "        )                    # values to be used when adding parameter-values\n",
    "    )\n",
    "\n",
    "    #putting text\n",
    "    texts = baker.get_value_texts()\n",
    "    for i, text in enumerate(texts):\n",
    "        text.set_text(str(player_values[i]))\n",
    "    # add title\n",
    "    fig.text(\n",
    "        0.515, 0.98, f\"{player} ({age}) - {position} - {value}M€ - {nineties} 90s played -  Defensive Stats\", size=30,\n",
    "        ha=\"center\", fontproperties=font_bold.prop, color=\"#005DAA\"\n",
    "    )\n",
    "\n",
    "    # add subtitle\n",
    "    fig.text(\n",
    "        0.515, 0.942,\n",
    "        f\"{team} - Premier League | Season 2017-18\",\n",
    "        size=21,\n",
    "        ha=\"center\", fontproperties=font_bold.prop, color=\"#005DAA\"\n",
    "    )\n",
    "    plt.savefig(f\"{player}_radar.png\")\n",
    "    plt.show()"
   ],
   "metadata": {
    "collapsed": false,
    "pycharm": {
     "name": "#%%\n"
    }
   }
  },
  {
   "cell_type": "code",
   "execution_count": null,
   "outputs": [],
   "source": [
    "team_percentiles = []\n",
    "for index, row in team_defenders:\n",
    "    create_radar(row.iloc[0],row.iloc[1],row.iloc[2],row.iloc[3],\"Brighton & Hove Albion\")"
   ],
   "metadata": {
    "collapsed": false,
    "pycharm": {
     "name": "#%%\n"
    }
   }
  },
  {
   "cell_type": "code",
   "execution_count": 5,
   "outputs": [
    {
     "data": {
      "text/plain": "           name  foul_per_won_duel_own_half  interceptions_adjusted_per90  \\\n0  Bruno Saltor                          11                            40   \n1      S. Duffy                          81                            28   \n2       L. Dunk                          48                            43   \n3  E. Schelotto                          42                             1   \n4       G. Bong                          39                            67   \n5    M. Suttner                          45                             8   \n\n   air_duels_won%  ground_duels_won%  won_vs_dribbles%  \n0              40                 12                15  \n1              89                 86                44  \n2              69                 88                33  \n3              65                  8                57  \n4              43                 35                89  \n5              20                 53                52  ",
      "text/html": "<div>\n<style scoped>\n    .dataframe tbody tr th:only-of-type {\n        vertical-align: middle;\n    }\n\n    .dataframe tbody tr th {\n        vertical-align: top;\n    }\n\n    .dataframe thead th {\n        text-align: right;\n    }\n</style>\n<table border=\"1\" class=\"dataframe\">\n  <thead>\n    <tr style=\"text-align: right;\">\n      <th></th>\n      <th>name</th>\n      <th>foul_per_won_duel_own_half</th>\n      <th>interceptions_adjusted_per90</th>\n      <th>air_duels_won%</th>\n      <th>ground_duels_won%</th>\n      <th>won_vs_dribbles%</th>\n    </tr>\n  </thead>\n  <tbody>\n    <tr>\n      <th>0</th>\n      <td>Bruno Saltor</td>\n      <td>11</td>\n      <td>40</td>\n      <td>40</td>\n      <td>12</td>\n      <td>15</td>\n    </tr>\n    <tr>\n      <th>1</th>\n      <td>S. Duffy</td>\n      <td>81</td>\n      <td>28</td>\n      <td>89</td>\n      <td>86</td>\n      <td>44</td>\n    </tr>\n    <tr>\n      <th>2</th>\n      <td>L. Dunk</td>\n      <td>48</td>\n      <td>43</td>\n      <td>69</td>\n      <td>88</td>\n      <td>33</td>\n    </tr>\n    <tr>\n      <th>3</th>\n      <td>E. Schelotto</td>\n      <td>42</td>\n      <td>1</td>\n      <td>65</td>\n      <td>8</td>\n      <td>57</td>\n    </tr>\n    <tr>\n      <th>4</th>\n      <td>G. Bong</td>\n      <td>39</td>\n      <td>67</td>\n      <td>43</td>\n      <td>35</td>\n      <td>89</td>\n    </tr>\n    <tr>\n      <th>5</th>\n      <td>M. Suttner</td>\n      <td>45</td>\n      <td>8</td>\n      <td>20</td>\n      <td>53</td>\n      <td>52</td>\n    </tr>\n  </tbody>\n</table>\n</div>"
     },
     "execution_count": 5,
     "metadata": {},
     "output_type": "execute_result"
    }
   ],
   "source": [
    "team_percentiles_df = pd.DataFrame(team_percentiles,columns=[\"name\",\"foul_per_won_duel_own_half\",\"interceptions_adjusted_per90\",\"air_duels_won%\",\"ground_duels_won%\",\"won_vs_dribbles%\"])\n",
    "team_percentiles_df"
   ],
   "metadata": {
    "collapsed": false,
    "pycharm": {
     "name": "#%%\n"
    }
   }
  },
  {
   "cell_type": "code",
   "execution_count": 8,
   "outputs": [
    {
     "data": {
      "text/plain": "           name  foul_per_won_duel_own_half  interceptions_adjusted_per90  \\\n1      S. Duffy                          81                            28   \n2       L. Dunk                          48                            43   \n3  E. Schelotto                          42                             1   \n4       G. Bong                          39                            67   \n\n   air_duels_won%  ground_duels_won%  won_vs_dribbles%  \n1              89                 86                44  \n2              69                 88                33  \n3              65                  8                57  \n4              43                 35                89  ",
      "text/html": "<div>\n<style scoped>\n    .dataframe tbody tr th:only-of-type {\n        vertical-align: middle;\n    }\n\n    .dataframe tbody tr th {\n        vertical-align: top;\n    }\n\n    .dataframe thead th {\n        text-align: right;\n    }\n</style>\n<table border=\"1\" class=\"dataframe\">\n  <thead>\n    <tr style=\"text-align: right;\">\n      <th></th>\n      <th>name</th>\n      <th>foul_per_won_duel_own_half</th>\n      <th>interceptions_adjusted_per90</th>\n      <th>air_duels_won%</th>\n      <th>ground_duels_won%</th>\n      <th>won_vs_dribbles%</th>\n    </tr>\n  </thead>\n  <tbody>\n    <tr>\n      <th>1</th>\n      <td>S. Duffy</td>\n      <td>81</td>\n      <td>28</td>\n      <td>89</td>\n      <td>86</td>\n      <td>44</td>\n    </tr>\n    <tr>\n      <th>2</th>\n      <td>L. Dunk</td>\n      <td>48</td>\n      <td>43</td>\n      <td>69</td>\n      <td>88</td>\n      <td>33</td>\n    </tr>\n    <tr>\n      <th>3</th>\n      <td>E. Schelotto</td>\n      <td>42</td>\n      <td>1</td>\n      <td>65</td>\n      <td>8</td>\n      <td>57</td>\n    </tr>\n    <tr>\n      <th>4</th>\n      <td>G. Bong</td>\n      <td>39</td>\n      <td>67</td>\n      <td>43</td>\n      <td>35</td>\n      <td>89</td>\n    </tr>\n  </tbody>\n</table>\n</div>"
     },
     "execution_count": 8,
     "metadata": {},
     "output_type": "execute_result"
    }
   ],
   "source": [
    "first_team_percentiles_df = team_percentiles_df.drop([0,5])\n",
    "first_team_percentiles_df"
   ],
   "metadata": {
    "collapsed": false,
    "pycharm": {
     "name": "#%%\n"
    }
   }
  },
  {
   "cell_type": "code",
   "execution_count": 9,
   "outputs": [
    {
     "name": "stdout",
     "output_type": "stream",
     "text": [
      "foul_per_won_duel_own_half:\n",
      "Highest: S. Duffy: 81\n",
      "Lowest: G. Bong: 39\n",
      "Percentiles: 81,48,42,39\n",
      "Mean: 52.5\n",
      "Median: 45.0\n",
      "----------------------------\n",
      "interceptions_adjusted_per90:\n",
      "Highest: G. Bong: 67\n",
      "Lowest: E. Schelotto: 1\n",
      "Percentiles: 67,43,28,1\n",
      "Mean: 34.75\n",
      "Median: 35.5\n",
      "----------------------------\n",
      "air_duels_won%:\n",
      "Highest: S. Duffy: 89\n",
      "Lowest: G. Bong: 43\n",
      "Percentiles: 89,69,65,43\n",
      "Mean: 66.5\n",
      "Median: 67.0\n",
      "----------------------------\n",
      "ground_duels_won%:\n",
      "Highest: L. Dunk: 88\n",
      "Lowest: E. Schelotto: 8\n",
      "Percentiles: 88,86,35,8\n",
      "Mean: 54.25\n",
      "Median: 60.5\n",
      "----------------------------\n",
      "won_vs_dribbles%:\n",
      "Highest: G. Bong: 89\n",
      "Lowest: L. Dunk: 33\n",
      "Percentiles: 89,57,44,33\n",
      "Mean: 55.75\n",
      "Median: 50.5\n",
      "----------------------------\n"
     ]
    }
   ],
   "source": [
    "for i in [1,2,3,4,5]:\n",
    "    column = team_percentiles_df.columns[i]\n",
    "    team_percentiles_df = team_percentiles_df.sort_values(column, ascending=False)\n",
    "    print(f\"{column}:\")\n",
    "    print(f\"Highest: {team_percentiles_df.iloc[0,0]}: {team_percentiles_df.iloc[0,i]}\")\n",
    "    print(f\"Lowest: {team_percentiles_df.iloc[3,0]}: {team_percentiles_df.iloc[3,i]}\")\n",
    "    print(f\"Percentiles: {team_percentiles_df.iloc[0,i]},{team_percentiles_df.iloc[1,i]},{team_percentiles_df.iloc[2,i]},{team_percentiles_df.iloc[3,i]}\")\n",
    "    print(f\"Mean: {team_percentiles_df.iloc[:,i].mean()}\")\n",
    "    print(f\"Median: {team_percentiles_df.iloc[:,i].median()}\")\n",
    "    print(\"----------------------------\")\n"
   ],
   "metadata": {
    "collapsed": false,
    "pycharm": {
     "name": "#%%\n"
    }
   }
  },
  {
   "cell_type": "code",
   "execution_count": 43,
   "outputs": [
    {
     "data": {
      "text/plain": "54.6"
     },
     "execution_count": 43,
     "metadata": {},
     "output_type": "execute_result"
    }
   ],
   "source": [
    "team_percentiles_df.iloc[0][1:].mean()"
   ],
   "metadata": {
    "collapsed": false,
    "pycharm": {
     "name": "#%%\n"
    }
   }
  },
  {
   "cell_type": "code",
   "execution_count": 46,
   "outputs": [
    {
     "name": "stdout",
     "output_type": "stream",
     "text": [
      "G. Bong\n",
      "Percentiles: foul_per_won_duel_own_half      39\n",
      "interceptions_adjusted_per90    67\n",
      "air_duels_won%                  43\n",
      "ground_duels_won%               35\n",
      "won_vs_dribbles%                89\n",
      "Name: 4, dtype: object\n",
      "Mean: 54.6\n",
      "---------------------\n",
      "E. Schelotto\n",
      "Percentiles: foul_per_won_duel_own_half      42\n",
      "interceptions_adjusted_per90     1\n",
      "air_duels_won%                  65\n",
      "ground_duels_won%                8\n",
      "won_vs_dribbles%                57\n",
      "Name: 3, dtype: object\n",
      "Mean: 34.6\n",
      "---------------------\n",
      "M. Suttner\n",
      "Percentiles: foul_per_won_duel_own_half      45\n",
      "interceptions_adjusted_per90     8\n",
      "air_duels_won%                  20\n",
      "ground_duels_won%               53\n",
      "won_vs_dribbles%                52\n",
      "Name: 5, dtype: object\n",
      "Mean: 35.6\n",
      "---------------------\n",
      "S. Duffy\n",
      "Percentiles: foul_per_won_duel_own_half      81\n",
      "interceptions_adjusted_per90    28\n",
      "air_duels_won%                  89\n",
      "ground_duels_won%               86\n",
      "won_vs_dribbles%                44\n",
      "Name: 1, dtype: object\n",
      "Mean: 65.6\n",
      "---------------------\n",
      "L. Dunk\n",
      "Percentiles: foul_per_won_duel_own_half      48\n",
      "interceptions_adjusted_per90    43\n",
      "air_duels_won%                  69\n",
      "ground_duels_won%               88\n",
      "won_vs_dribbles%                33\n",
      "Name: 2, dtype: object\n",
      "Mean: 56.2\n",
      "---------------------\n",
      "Bruno Saltor\n",
      "Percentiles: foul_per_won_duel_own_half      11\n",
      "interceptions_adjusted_per90    40\n",
      "air_duels_won%                  40\n",
      "ground_duels_won%               12\n",
      "won_vs_dribbles%                15\n",
      "Name: 0, dtype: object\n",
      "Mean: 23.6\n",
      "---------------------\n"
     ]
    }
   ],
   "source": [
    "for i in range(6):\n",
    "    name = team_percentiles_df.iloc[i,0]\n",
    "    print(name)\n",
    "    print(f\"Percentiles: {team_percentiles_df.iloc[i][1:]}\")\n",
    "    print(f\"Mean: {team_percentiles_df.iloc[i][1:].mean()}\")\n",
    "    print(\"---------------------\")"
   ],
   "metadata": {
    "collapsed": false,
    "pycharm": {
     "name": "#%%\n"
    }
   }
  },
  {
   "cell_type": "code",
   "execution_count": 45,
   "outputs": [
    {
     "data": {
      "text/plain": "'G. Bong'"
     },
     "execution_count": 45,
     "metadata": {},
     "output_type": "execute_result"
    }
   ],
   "source": [
    "team_percentiles_df.iloc[0,0]"
   ],
   "metadata": {
    "collapsed": false,
    "pycharm": {
     "name": "#%%\n"
    }
   }
  },
  {
   "cell_type": "code",
   "execution_count": 57,
   "outputs": [
    {
     "data": {
      "text/plain": "1.966295571896516"
     },
     "execution_count": 57,
     "metadata": {},
     "output_type": "execute_result"
    }
   ],
   "source": [
    "df.loc[:,'interceptions_adjusted_per90'].max()"
   ],
   "metadata": {
    "collapsed": false,
    "pycharm": {
     "name": "#%%\n"
    }
   }
  },
  {
   "cell_type": "code",
   "execution_count": 61,
   "outputs": [
    {
     "data": {
      "text/plain": "           name  foul_per_won_duel_own_half  interceptions_adjusted_per90  \\\n0  Bruno Saltor                          11                            40   \n1      S. Duffy                          81                            28   \n2       L. Dunk                          48                            43   \n3  E. Schelotto                          42                             1   \n4       G. Bong                          39                            67   \n5    M. Suttner                          45                             8   \n\n   air_duels_won%  ground_duels_won%  won_vs_dribbles% position  value  age  \n0              40                 12                15       RB   0.75   36  \n1              89                 86                44       CB  12.00   25  \n2              69                 88                33       CB  10.00   25  \n3              65                  8                57       RB   4.50   28  \n4              43                 35                89       LB   1.50   29  \n5              20                 53                52       LB   2.50   30  ",
      "text/html": "<div>\n<style scoped>\n    .dataframe tbody tr th:only-of-type {\n        vertical-align: middle;\n    }\n\n    .dataframe tbody tr th {\n        vertical-align: top;\n    }\n\n    .dataframe thead th {\n        text-align: right;\n    }\n</style>\n<table border=\"1\" class=\"dataframe\">\n  <thead>\n    <tr style=\"text-align: right;\">\n      <th></th>\n      <th>name</th>\n      <th>foul_per_won_duel_own_half</th>\n      <th>interceptions_adjusted_per90</th>\n      <th>air_duels_won%</th>\n      <th>ground_duels_won%</th>\n      <th>won_vs_dribbles%</th>\n      <th>position</th>\n      <th>value</th>\n      <th>age</th>\n    </tr>\n  </thead>\n  <tbody>\n    <tr>\n      <th>0</th>\n      <td>Bruno Saltor</td>\n      <td>11</td>\n      <td>40</td>\n      <td>40</td>\n      <td>12</td>\n      <td>15</td>\n      <td>RB</td>\n      <td>0.75</td>\n      <td>36</td>\n    </tr>\n    <tr>\n      <th>1</th>\n      <td>S. Duffy</td>\n      <td>81</td>\n      <td>28</td>\n      <td>89</td>\n      <td>86</td>\n      <td>44</td>\n      <td>CB</td>\n      <td>12.00</td>\n      <td>25</td>\n    </tr>\n    <tr>\n      <th>2</th>\n      <td>L. Dunk</td>\n      <td>48</td>\n      <td>43</td>\n      <td>69</td>\n      <td>88</td>\n      <td>33</td>\n      <td>CB</td>\n      <td>10.00</td>\n      <td>25</td>\n    </tr>\n    <tr>\n      <th>3</th>\n      <td>E. Schelotto</td>\n      <td>42</td>\n      <td>1</td>\n      <td>65</td>\n      <td>8</td>\n      <td>57</td>\n      <td>RB</td>\n      <td>4.50</td>\n      <td>28</td>\n    </tr>\n    <tr>\n      <th>4</th>\n      <td>G. Bong</td>\n      <td>39</td>\n      <td>67</td>\n      <td>43</td>\n      <td>35</td>\n      <td>89</td>\n      <td>LB</td>\n      <td>1.50</td>\n      <td>29</td>\n    </tr>\n    <tr>\n      <th>5</th>\n      <td>M. Suttner</td>\n      <td>45</td>\n      <td>8</td>\n      <td>20</td>\n      <td>53</td>\n      <td>52</td>\n      <td>LB</td>\n      <td>2.50</td>\n      <td>30</td>\n    </tr>\n  </tbody>\n</table>\n</div>"
     },
     "execution_count": 61,
     "metadata": {},
     "output_type": "execute_result"
    }
   ],
   "source": [
    "team_percentiles_combined = team_percentiles_df.merge(team_defenders, how='inner',on='name')\n",
    "team_percentiles_combined"
   ],
   "metadata": {
    "collapsed": false,
    "pycharm": {
     "name": "#%%\n"
    }
   }
  },
  {
   "cell_type": "code",
   "execution_count": 67,
   "outputs": [
    {
     "name": "stdout",
     "output_type": "stream",
     "text": [
      "position\n",
      "CB    64.5\n",
      "LB    42.0\n",
      "RB    26.5\n",
      "Name: foul_per_won_duel_own_half, dtype: float64\n",
      "-------------\n",
      "position\n",
      "CB    35.5\n",
      "LB    37.5\n",
      "RB    20.5\n",
      "Name: interceptions_adjusted_per90, dtype: float64\n",
      "-------------\n",
      "position\n",
      "CB    79.0\n",
      "LB    31.5\n",
      "RB    52.5\n",
      "Name: air_duels_won%, dtype: float64\n",
      "-------------\n",
      "position\n",
      "CB    87\n",
      "LB    44\n",
      "RB    10\n",
      "Name: ground_duels_won%, dtype: int64\n",
      "-------------\n",
      "position\n",
      "CB    38.5\n",
      "LB    70.5\n",
      "RB    36.0\n",
      "Name: won_vs_dribbles%, dtype: float64\n",
      "-------------\n"
     ]
    }
   ],
   "source": [
    "for col in team_percentiles_df.columns[1:]:\n",
    "    print(team_percentiles_combined.groupby('position')[col].mean())\n",
    "    print(\"-------------\")"
   ],
   "metadata": {
    "collapsed": false,
    "pycharm": {
     "name": "#%%\n"
    }
   }
  },
  {
   "cell_type": "code",
   "execution_count": 82,
   "outputs": [
    {
     "data": {
      "text/plain": "     foul_per_won_duel_own_half  interceptions_adjusted_per90  air_duels_won%  \\\n0                            46                            75              12   \n1                            91                            95              88   \n2                             1                           100              11   \n3                            54                            50              30   \n4                            53                            86              63   \n..                          ...                           ...             ...   \n131                          98                            70              28   \n132                          75                            52              34   \n133                          80                            93             100   \n134                          45                            98              54   \n135                           8                            87              18   \n\n     ground_duels_won%  won_vs_dribbles%              name               team  \n0                   36                83   T. Alderweireld  Tottenham Hotspur  \n1                   94                84     J. Vertonghen  Tottenham Hotspur  \n2                   21                65           D. Rose  Tottenham Hotspur  \n3                   14                31       K. Trippier  Tottenham Hotspur  \n4                   38                25         S. Aurier  Tottenham Hotspur  \n..                 ...               ...               ...                ...  \n131                 58                53        C. Daniels    AFC Bournemouth  \n132                 66                56       N. Ak\\u00e9    AFC Bournemouth  \n133                 97               100     M. Wagu\\u00e9            Udinese  \n134                 24                18  A. Dragovi\\u0107   Bayer Leverkusen  \n135                 38                 6         K. Wimmer        Hannover 96  \n\n[136 rows x 7 columns]",
      "text/html": "<div>\n<style scoped>\n    .dataframe tbody tr th:only-of-type {\n        vertical-align: middle;\n    }\n\n    .dataframe tbody tr th {\n        vertical-align: top;\n    }\n\n    .dataframe thead th {\n        text-align: right;\n    }\n</style>\n<table border=\"1\" class=\"dataframe\">\n  <thead>\n    <tr style=\"text-align: right;\">\n      <th></th>\n      <th>foul_per_won_duel_own_half</th>\n      <th>interceptions_adjusted_per90</th>\n      <th>air_duels_won%</th>\n      <th>ground_duels_won%</th>\n      <th>won_vs_dribbles%</th>\n      <th>name</th>\n      <th>team</th>\n    </tr>\n  </thead>\n  <tbody>\n    <tr>\n      <th>0</th>\n      <td>46</td>\n      <td>75</td>\n      <td>12</td>\n      <td>36</td>\n      <td>83</td>\n      <td>T. Alderweireld</td>\n      <td>Tottenham Hotspur</td>\n    </tr>\n    <tr>\n      <th>1</th>\n      <td>91</td>\n      <td>95</td>\n      <td>88</td>\n      <td>94</td>\n      <td>84</td>\n      <td>J. Vertonghen</td>\n      <td>Tottenham Hotspur</td>\n    </tr>\n    <tr>\n      <th>2</th>\n      <td>1</td>\n      <td>100</td>\n      <td>11</td>\n      <td>21</td>\n      <td>65</td>\n      <td>D. Rose</td>\n      <td>Tottenham Hotspur</td>\n    </tr>\n    <tr>\n      <th>3</th>\n      <td>54</td>\n      <td>50</td>\n      <td>30</td>\n      <td>14</td>\n      <td>31</td>\n      <td>K. Trippier</td>\n      <td>Tottenham Hotspur</td>\n    </tr>\n    <tr>\n      <th>4</th>\n      <td>53</td>\n      <td>86</td>\n      <td>63</td>\n      <td>38</td>\n      <td>25</td>\n      <td>S. Aurier</td>\n      <td>Tottenham Hotspur</td>\n    </tr>\n    <tr>\n      <th>...</th>\n      <td>...</td>\n      <td>...</td>\n      <td>...</td>\n      <td>...</td>\n      <td>...</td>\n      <td>...</td>\n      <td>...</td>\n    </tr>\n    <tr>\n      <th>131</th>\n      <td>98</td>\n      <td>70</td>\n      <td>28</td>\n      <td>58</td>\n      <td>53</td>\n      <td>C. Daniels</td>\n      <td>AFC Bournemouth</td>\n    </tr>\n    <tr>\n      <th>132</th>\n      <td>75</td>\n      <td>52</td>\n      <td>34</td>\n      <td>66</td>\n      <td>56</td>\n      <td>N. Ak\\u00e9</td>\n      <td>AFC Bournemouth</td>\n    </tr>\n    <tr>\n      <th>133</th>\n      <td>80</td>\n      <td>93</td>\n      <td>100</td>\n      <td>97</td>\n      <td>100</td>\n      <td>M. Wagu\\u00e9</td>\n      <td>Udinese</td>\n    </tr>\n    <tr>\n      <th>134</th>\n      <td>45</td>\n      <td>98</td>\n      <td>54</td>\n      <td>24</td>\n      <td>18</td>\n      <td>A. Dragovi\\u0107</td>\n      <td>Bayer Leverkusen</td>\n    </tr>\n    <tr>\n      <th>135</th>\n      <td>8</td>\n      <td>87</td>\n      <td>18</td>\n      <td>38</td>\n      <td>6</td>\n      <td>K. Wimmer</td>\n      <td>Hannover 96</td>\n    </tr>\n  </tbody>\n</table>\n<p>136 rows × 7 columns</p>\n</div>"
     },
     "execution_count": 82,
     "metadata": {},
     "output_type": "execute_result"
    }
   ],
   "source": [
    "player_columns = df.columns[1:]\n",
    "all_percentiles = []\n",
    "for player in df.shortName:\n",
    "    player_df = df.loc[df[\"shortName\"] == player]\n",
    "    player_df = player_df[[\"minutesPlayed\",\"foul_per_won_duel_own_half\",\"interceptions_adjusted_per90\",\"air_duels_won%\",\"ground_duels_won%\",\"won_vs_dribbles%\"]]\n",
    "    nineties = round(player_df.iloc[0,0]/90,2)\n",
    "    player_columns = player_df.columns[1:]\n",
    "    player_values = [round(player_df[column].iloc[0],2) for column in player_columns]\n",
    "    percentiles = [int(stats.percentileofscore(df[column], player_df[column].iloc[0])) for column in player_columns]\n",
    "    percentiles[0] = 100 - percentiles[0]\n",
    "    all_percentiles.append(percentiles)\n",
    "all_percentiles_df = pd.DataFrame(all_percentiles,columns=player_columns)\n",
    "all_percentiles_df['name'] = df.shortName\n",
    "all_percentiles_df['team'] = df.teamName\n",
    "all_percentiles_df"
   ],
   "metadata": {
    "collapsed": false,
    "pycharm": {
     "name": "#%%\n"
    }
   }
  },
  {
   "cell_type": "code",
   "execution_count": 83,
   "outputs": [
    {
     "data": {
      "text/plain": "     foul_per_won_duel_own_half  interceptions_adjusted_per90  air_duels_won%  \\\n0                            46                            75              12   \n1                            91                            95              88   \n2                             1                           100              11   \n3                            54                            50              30   \n4                            53                            86              63   \n..                          ...                           ...             ...   \n131                          98                            70              28   \n132                          75                            52              34   \n133                          80                            93             100   \n134                          45                            98              54   \n135                           8                            87              18   \n\n     ground_duels_won%  won_vs_dribbles%              name               team  \\\n0                   36                83   T. Alderweireld  Tottenham Hotspur   \n1                   94                84     J. Vertonghen  Tottenham Hotspur   \n2                   21                65           D. Rose  Tottenham Hotspur   \n3                   14                31       K. Trippier  Tottenham Hotspur   \n4                   38                25         S. Aurier  Tottenham Hotspur   \n..                 ...               ...               ...                ...   \n131                 58                53        C. Daniels    AFC Bournemouth   \n132                 66                56       N. Ak\\u00e9    AFC Bournemouth   \n133                 97               100     M. Wagu\\u00e9            Udinese   \n134                 24                18  A. Dragovi\\u0107   Bayer Leverkusen   \n135                 38                 6         K. Wimmer        Hannover 96   \n\n     mean  \n0    50.4  \n1    90.4  \n2    39.6  \n3    35.8  \n4    53.0  \n..    ...  \n131  61.4  \n132  56.6  \n133  94.0  \n134  47.8  \n135  31.4  \n\n[136 rows x 8 columns]",
      "text/html": "<div>\n<style scoped>\n    .dataframe tbody tr th:only-of-type {\n        vertical-align: middle;\n    }\n\n    .dataframe tbody tr th {\n        vertical-align: top;\n    }\n\n    .dataframe thead th {\n        text-align: right;\n    }\n</style>\n<table border=\"1\" class=\"dataframe\">\n  <thead>\n    <tr style=\"text-align: right;\">\n      <th></th>\n      <th>foul_per_won_duel_own_half</th>\n      <th>interceptions_adjusted_per90</th>\n      <th>air_duels_won%</th>\n      <th>ground_duels_won%</th>\n      <th>won_vs_dribbles%</th>\n      <th>name</th>\n      <th>team</th>\n      <th>mean</th>\n    </tr>\n  </thead>\n  <tbody>\n    <tr>\n      <th>0</th>\n      <td>46</td>\n      <td>75</td>\n      <td>12</td>\n      <td>36</td>\n      <td>83</td>\n      <td>T. Alderweireld</td>\n      <td>Tottenham Hotspur</td>\n      <td>50.4</td>\n    </tr>\n    <tr>\n      <th>1</th>\n      <td>91</td>\n      <td>95</td>\n      <td>88</td>\n      <td>94</td>\n      <td>84</td>\n      <td>J. Vertonghen</td>\n      <td>Tottenham Hotspur</td>\n      <td>90.4</td>\n    </tr>\n    <tr>\n      <th>2</th>\n      <td>1</td>\n      <td>100</td>\n      <td>11</td>\n      <td>21</td>\n      <td>65</td>\n      <td>D. Rose</td>\n      <td>Tottenham Hotspur</td>\n      <td>39.6</td>\n    </tr>\n    <tr>\n      <th>3</th>\n      <td>54</td>\n      <td>50</td>\n      <td>30</td>\n      <td>14</td>\n      <td>31</td>\n      <td>K. Trippier</td>\n      <td>Tottenham Hotspur</td>\n      <td>35.8</td>\n    </tr>\n    <tr>\n      <th>4</th>\n      <td>53</td>\n      <td>86</td>\n      <td>63</td>\n      <td>38</td>\n      <td>25</td>\n      <td>S. Aurier</td>\n      <td>Tottenham Hotspur</td>\n      <td>53.0</td>\n    </tr>\n    <tr>\n      <th>...</th>\n      <td>...</td>\n      <td>...</td>\n      <td>...</td>\n      <td>...</td>\n      <td>...</td>\n      <td>...</td>\n      <td>...</td>\n      <td>...</td>\n    </tr>\n    <tr>\n      <th>131</th>\n      <td>98</td>\n      <td>70</td>\n      <td>28</td>\n      <td>58</td>\n      <td>53</td>\n      <td>C. Daniels</td>\n      <td>AFC Bournemouth</td>\n      <td>61.4</td>\n    </tr>\n    <tr>\n      <th>132</th>\n      <td>75</td>\n      <td>52</td>\n      <td>34</td>\n      <td>66</td>\n      <td>56</td>\n      <td>N. Ak\\u00e9</td>\n      <td>AFC Bournemouth</td>\n      <td>56.6</td>\n    </tr>\n    <tr>\n      <th>133</th>\n      <td>80</td>\n      <td>93</td>\n      <td>100</td>\n      <td>97</td>\n      <td>100</td>\n      <td>M. Wagu\\u00e9</td>\n      <td>Udinese</td>\n      <td>94.0</td>\n    </tr>\n    <tr>\n      <th>134</th>\n      <td>45</td>\n      <td>98</td>\n      <td>54</td>\n      <td>24</td>\n      <td>18</td>\n      <td>A. Dragovi\\u0107</td>\n      <td>Bayer Leverkusen</td>\n      <td>47.8</td>\n    </tr>\n    <tr>\n      <th>135</th>\n      <td>8</td>\n      <td>87</td>\n      <td>18</td>\n      <td>38</td>\n      <td>6</td>\n      <td>K. Wimmer</td>\n      <td>Hannover 96</td>\n      <td>31.4</td>\n    </tr>\n  </tbody>\n</table>\n<p>136 rows × 8 columns</p>\n</div>"
     },
     "execution_count": 83,
     "metadata": {},
     "output_type": "execute_result"
    }
   ],
   "source": [
    "mean_list = []\n",
    "for i in range(len(all_percentiles_df)):\n",
    "    mean_list.append(all_percentiles_df.iloc[i][:5].mean())\n",
    "all_percentiles_df['mean'] = mean_list\n",
    "all_percentiles_df"
   ],
   "metadata": {
    "collapsed": false,
    "pycharm": {
     "name": "#%%\n"
    }
   }
  },
  {
   "cell_type": "code",
   "execution_count": null,
   "outputs": [],
   "source": [
    "create_radar(\"J. Vertonghen\",\"CB\",32,31,\"Tottenham Hotspur\")"
   ],
   "metadata": {
    "collapsed": false,
    "pycharm": {
     "name": "#%%\n"
    }
   }
  },
  {
   "cell_type": "code",
   "execution_count": null,
   "outputs": [],
   "source": [
    "create_radar(\"D. Yedlin\",\"RB\",8,25,\"Newcastle United\")"
   ],
   "metadata": {
    "collapsed": false,
    "pycharm": {
     "name": "#%%\n"
    }
   }
  },
  {
   "cell_type": "code",
   "execution_count": null,
   "outputs": [],
   "source": [],
   "metadata": {
    "collapsed": false,
    "pycharm": {
     "name": "#%%\n"
    }
   }
  }
 ],
 "metadata": {
  "kernelspec": {
   "display_name": "Python 3",
   "language": "python",
   "name": "python3"
  },
  "language_info": {
   "codemirror_mode": {
    "name": "ipython",
    "version": 2
   },
   "file_extension": ".py",
   "mimetype": "text/x-python",
   "name": "python",
   "nbconvert_exporter": "python",
   "pygments_lexer": "ipython2",
   "version": "2.7.6"
  }
 },
 "nbformat": 4,
 "nbformat_minor": 0
}