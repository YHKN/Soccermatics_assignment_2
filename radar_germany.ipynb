{
 "cells": [
  {
   "cell_type": "code",
   "execution_count": 1,
   "metadata": {
    "collapsed": true
   },
   "outputs": [],
   "source": [
    "%matplotlib inline\n",
    "import pandas as pd\n",
    "import numpy as np\n",
    "import json\n",
    "# plotting\n",
    "import matplotlib.pyplot as plt\n",
    "# statistical fitting of models\n",
    "import statsmodels.api as sm\n",
    "import statsmodels.formula.api as smf\n",
    "#opening data\n",
    "import os\n",
    "import pathlib\n",
    "import warnings\n",
    "#used for plots\n",
    "from scipy import stats\n",
    "from mplsoccer import PyPizza, FontManager\n",
    "\n",
    "pd.options.mode.chained_assignment = None\n",
    "warnings.filterwarnings('ignore')"
   ]
  },
  {
   "cell_type": "code",
   "execution_count": 2,
   "outputs": [
    {
     "data": {
      "text/plain": "     playerId  minutesPlayed  ground_duels_won  ground_duels  fouls_committed  \\\n0          77           2326              38.0         150.0             33.0   \n1       11095           2749              50.0         208.0             21.0   \n2       15771           1427              23.0          98.0             14.0   \n3       51217           2615              40.0         174.0             26.0   \n4       82340           2923              46.0         253.0             41.0   \n..        ...            ...               ...           ...              ...   \n119    216074           3163              47.0         215.0             23.0   \n120    255732            888               9.0          48.0              9.0   \n121    272378           2009              41.0         181.0             22.0   \n122    336829           1997              32.0         121.0             30.0   \n123    344864           2212              53.0         182.0             25.0   \n\n     air_duels  air_duels_won  duels_won_own_half  fouls_committed_own_half  \\\n0         84.0           39.0                64.0                      23.0   \n1        128.0           71.0               100.0                      14.0   \n2         68.0           49.0                53.0                       7.0   \n3        100.0           47.0                53.0                       8.0   \n4        229.0          110.0                89.0                      20.0   \n..         ...            ...                 ...                       ...   \n119       49.0           13.0                50.0                      11.0   \n120       31.0           15.0                18.0                       7.0   \n121       49.0           24.0                48.0                      11.0   \n122      140.0           83.0                84.0                      20.0   \n123       95.0           57.0                96.0                      16.0   \n\n     interceptions  ...  ground_duels_won_adjusted_per90  \\\n0             14.0  ...                         2.862912   \n1              7.0  ...                         3.053889   \n2              9.0  ...                         2.795890   \n3             14.0  ...                         2.606748   \n4             14.0  ...                         2.695810   \n..             ...  ...                              ...   \n119           15.0  ...                         2.417032   \n120            2.0  ...                         1.556275   \n121            6.0  ...                         3.441047   \n122           14.0  ...                         2.648590   \n123           10.0  ...                         3.817010   \n\n     ground_duels_adjusted_per90  fouls_committed_adjusted_per90  \\\n0                      11.300969                        2.486213   \n1                      12.704180                        1.282634   \n2                      11.912921                        1.701846   \n3                      11.339354                        1.694386   \n4                      14.826952                        2.402787   \n..                           ...                             ...   \n119                    11.056634                        1.182803   \n120                     8.300132                        1.556275   \n121                    15.190964                        1.846415   \n122                    10.014982                        2.483053   \n123                    13.107470                        1.800477   \n\n     air_duels_adjusted_per90  air_duels_won_adjusted_per90  \\\n0                    6.328543                      2.938252   \n1                    7.817957                      4.336523   \n2                    8.266108                      5.956460   \n3                    6.516870                      3.062929   \n4                   13.420443                      6.446501   \n..                        ...                           ...   \n119                  2.519884                      0.668541   \n120                  5.360502                      2.593791   \n121                  4.112471                      2.014271   \n122                 11.587583                      6.869781   \n123                  6.841811                      4.105087   \n\n     duels_won_own_half_adjusted_per90  \\\n0                             4.821747   \n1                             6.107779   \n2                             6.442702   \n3                             3.453941   \n4                             5.215805   \n..                                 ...   \n119                           2.571310   \n120                           3.112549   \n121                           4.028543   \n122                           6.952550   \n123                           6.913830   \n\n     fouls_committed_own_half_adjusted_per90 interceptions_adjusted_per90  \\\n0                                   1.732815                     1.054757   \n1                                   0.855089                     0.427545   \n2                                   0.850923                     1.094044   \n3                                   0.521350                     0.912362   \n4                                   1.172091                     0.820464   \n..                                       ...                          ...   \n119                                 0.565688                     0.771393   \n120                                 1.210436                     0.345839   \n121                                 0.923208                     0.503568   \n122                                 1.655369                     1.158758   \n123                                 1.152305                     0.720191   \n\n     vs_dribbles_adjusted_per90 won_vs_dribbles_adjusted_per90  \n0                      5.047766                       1.130097  \n1                      4.825145                       1.038322  \n2                      5.834900                       1.094044  \n3                      4.692146                       0.977530  \n4                      5.039992                       0.761859  \n..                          ...                            ...  \n119                    4.936916                       0.925672  \n120                    3.631308                       0.864597  \n121                    7.973158                       1.762488  \n122                    3.393506                       0.579379  \n123                    4.825277                       1.080286  \n\n[124 rows x 32 columns]",
      "text/html": "<div>\n<style scoped>\n    .dataframe tbody tr th:only-of-type {\n        vertical-align: middle;\n    }\n\n    .dataframe tbody tr th {\n        vertical-align: top;\n    }\n\n    .dataframe thead th {\n        text-align: right;\n    }\n</style>\n<table border=\"1\" class=\"dataframe\">\n  <thead>\n    <tr style=\"text-align: right;\">\n      <th></th>\n      <th>playerId</th>\n      <th>minutesPlayed</th>\n      <th>ground_duels_won</th>\n      <th>ground_duels</th>\n      <th>fouls_committed</th>\n      <th>air_duels</th>\n      <th>air_duels_won</th>\n      <th>duels_won_own_half</th>\n      <th>fouls_committed_own_half</th>\n      <th>interceptions</th>\n      <th>...</th>\n      <th>ground_duels_won_adjusted_per90</th>\n      <th>ground_duels_adjusted_per90</th>\n      <th>fouls_committed_adjusted_per90</th>\n      <th>air_duels_adjusted_per90</th>\n      <th>air_duels_won_adjusted_per90</th>\n      <th>duels_won_own_half_adjusted_per90</th>\n      <th>fouls_committed_own_half_adjusted_per90</th>\n      <th>interceptions_adjusted_per90</th>\n      <th>vs_dribbles_adjusted_per90</th>\n      <th>won_vs_dribbles_adjusted_per90</th>\n    </tr>\n  </thead>\n  <tbody>\n    <tr>\n      <th>0</th>\n      <td>77</td>\n      <td>2326</td>\n      <td>38.0</td>\n      <td>150.0</td>\n      <td>33.0</td>\n      <td>84.0</td>\n      <td>39.0</td>\n      <td>64.0</td>\n      <td>23.0</td>\n      <td>14.0</td>\n      <td>...</td>\n      <td>2.862912</td>\n      <td>11.300969</td>\n      <td>2.486213</td>\n      <td>6.328543</td>\n      <td>2.938252</td>\n      <td>4.821747</td>\n      <td>1.732815</td>\n      <td>1.054757</td>\n      <td>5.047766</td>\n      <td>1.130097</td>\n    </tr>\n    <tr>\n      <th>1</th>\n      <td>11095</td>\n      <td>2749</td>\n      <td>50.0</td>\n      <td>208.0</td>\n      <td>21.0</td>\n      <td>128.0</td>\n      <td>71.0</td>\n      <td>100.0</td>\n      <td>14.0</td>\n      <td>7.0</td>\n      <td>...</td>\n      <td>3.053889</td>\n      <td>12.704180</td>\n      <td>1.282634</td>\n      <td>7.817957</td>\n      <td>4.336523</td>\n      <td>6.107779</td>\n      <td>0.855089</td>\n      <td>0.427545</td>\n      <td>4.825145</td>\n      <td>1.038322</td>\n    </tr>\n    <tr>\n      <th>2</th>\n      <td>15771</td>\n      <td>1427</td>\n      <td>23.0</td>\n      <td>98.0</td>\n      <td>14.0</td>\n      <td>68.0</td>\n      <td>49.0</td>\n      <td>53.0</td>\n      <td>7.0</td>\n      <td>9.0</td>\n      <td>...</td>\n      <td>2.795890</td>\n      <td>11.912921</td>\n      <td>1.701846</td>\n      <td>8.266108</td>\n      <td>5.956460</td>\n      <td>6.442702</td>\n      <td>0.850923</td>\n      <td>1.094044</td>\n      <td>5.834900</td>\n      <td>1.094044</td>\n    </tr>\n    <tr>\n      <th>3</th>\n      <td>51217</td>\n      <td>2615</td>\n      <td>40.0</td>\n      <td>174.0</td>\n      <td>26.0</td>\n      <td>100.0</td>\n      <td>47.0</td>\n      <td>53.0</td>\n      <td>8.0</td>\n      <td>14.0</td>\n      <td>...</td>\n      <td>2.606748</td>\n      <td>11.339354</td>\n      <td>1.694386</td>\n      <td>6.516870</td>\n      <td>3.062929</td>\n      <td>3.453941</td>\n      <td>0.521350</td>\n      <td>0.912362</td>\n      <td>4.692146</td>\n      <td>0.977530</td>\n    </tr>\n    <tr>\n      <th>4</th>\n      <td>82340</td>\n      <td>2923</td>\n      <td>46.0</td>\n      <td>253.0</td>\n      <td>41.0</td>\n      <td>229.0</td>\n      <td>110.0</td>\n      <td>89.0</td>\n      <td>20.0</td>\n      <td>14.0</td>\n      <td>...</td>\n      <td>2.695810</td>\n      <td>14.826952</td>\n      <td>2.402787</td>\n      <td>13.420443</td>\n      <td>6.446501</td>\n      <td>5.215805</td>\n      <td>1.172091</td>\n      <td>0.820464</td>\n      <td>5.039992</td>\n      <td>0.761859</td>\n    </tr>\n    <tr>\n      <th>...</th>\n      <td>...</td>\n      <td>...</td>\n      <td>...</td>\n      <td>...</td>\n      <td>...</td>\n      <td>...</td>\n      <td>...</td>\n      <td>...</td>\n      <td>...</td>\n      <td>...</td>\n      <td>...</td>\n      <td>...</td>\n      <td>...</td>\n      <td>...</td>\n      <td>...</td>\n      <td>...</td>\n      <td>...</td>\n      <td>...</td>\n      <td>...</td>\n      <td>...</td>\n      <td>...</td>\n    </tr>\n    <tr>\n      <th>119</th>\n      <td>216074</td>\n      <td>3163</td>\n      <td>47.0</td>\n      <td>215.0</td>\n      <td>23.0</td>\n      <td>49.0</td>\n      <td>13.0</td>\n      <td>50.0</td>\n      <td>11.0</td>\n      <td>15.0</td>\n      <td>...</td>\n      <td>2.417032</td>\n      <td>11.056634</td>\n      <td>1.182803</td>\n      <td>2.519884</td>\n      <td>0.668541</td>\n      <td>2.571310</td>\n      <td>0.565688</td>\n      <td>0.771393</td>\n      <td>4.936916</td>\n      <td>0.925672</td>\n    </tr>\n    <tr>\n      <th>120</th>\n      <td>255732</td>\n      <td>888</td>\n      <td>9.0</td>\n      <td>48.0</td>\n      <td>9.0</td>\n      <td>31.0</td>\n      <td>15.0</td>\n      <td>18.0</td>\n      <td>7.0</td>\n      <td>2.0</td>\n      <td>...</td>\n      <td>1.556275</td>\n      <td>8.300132</td>\n      <td>1.556275</td>\n      <td>5.360502</td>\n      <td>2.593791</td>\n      <td>3.112549</td>\n      <td>1.210436</td>\n      <td>0.345839</td>\n      <td>3.631308</td>\n      <td>0.864597</td>\n    </tr>\n    <tr>\n      <th>121</th>\n      <td>272378</td>\n      <td>2009</td>\n      <td>41.0</td>\n      <td>181.0</td>\n      <td>22.0</td>\n      <td>49.0</td>\n      <td>24.0</td>\n      <td>48.0</td>\n      <td>11.0</td>\n      <td>6.0</td>\n      <td>...</td>\n      <td>3.441047</td>\n      <td>15.190964</td>\n      <td>1.846415</td>\n      <td>4.112471</td>\n      <td>2.014271</td>\n      <td>4.028543</td>\n      <td>0.923208</td>\n      <td>0.503568</td>\n      <td>7.973158</td>\n      <td>1.762488</td>\n    </tr>\n    <tr>\n      <th>122</th>\n      <td>336829</td>\n      <td>1997</td>\n      <td>32.0</td>\n      <td>121.0</td>\n      <td>30.0</td>\n      <td>140.0</td>\n      <td>83.0</td>\n      <td>84.0</td>\n      <td>20.0</td>\n      <td>14.0</td>\n      <td>...</td>\n      <td>2.648590</td>\n      <td>10.014982</td>\n      <td>2.483053</td>\n      <td>11.587583</td>\n      <td>6.869781</td>\n      <td>6.952550</td>\n      <td>1.655369</td>\n      <td>1.158758</td>\n      <td>3.393506</td>\n      <td>0.579379</td>\n    </tr>\n    <tr>\n      <th>123</th>\n      <td>344864</td>\n      <td>2212</td>\n      <td>53.0</td>\n      <td>182.0</td>\n      <td>25.0</td>\n      <td>95.0</td>\n      <td>57.0</td>\n      <td>96.0</td>\n      <td>16.0</td>\n      <td>10.0</td>\n      <td>...</td>\n      <td>3.817010</td>\n      <td>13.107470</td>\n      <td>1.800477</td>\n      <td>6.841811</td>\n      <td>4.105087</td>\n      <td>6.913830</td>\n      <td>1.152305</td>\n      <td>0.720191</td>\n      <td>4.825277</td>\n      <td>1.080286</td>\n    </tr>\n  </tbody>\n</table>\n<p>124 rows × 32 columns</p>\n</div>"
     },
     "execution_count": 2,
     "metadata": {},
     "output_type": "execute_result"
    }
   ],
   "source": [
    "df = pd.read_csv(\"germany_defender_radardata.csv\", index_col=0)\n",
    "df"
   ],
   "metadata": {
    "collapsed": false,
    "pycharm": {
     "name": "#%%\n"
    }
   }
  },
  {
   "cell_type": "code",
   "execution_count": 3,
   "outputs": [
    {
     "data": {
      "text/plain": "                 shortName             teamName  interceptions_adjusted_per90  \\\n43              D. Zagadou    Borussia Dortmund                      2.274931   \n22              J. Boateng  Bayern M\\u00fcnchen                      1.912228   \n28                  Bartra           Real Betis                      1.865074   \n96          M. Halstenberg           RB Leipzig                      1.826953   \n65             B. Henrichs     Bayer Leverkusen                      1.632233   \n94               R. Oxford  Borussia M'gladbach                      1.584711   \n25              M. Hummels  Bayern M\\u00fcnchen                      1.579069   \n57         K. Papadopoulos         Hamburger SV                      1.534349   \n66               P. Retsos     Bayer Leverkusen                      1.439662   \n40  Rapha\\u00ebl Guerreiro    Borussia Dortmund                      1.439266   \n\n    minutesPlayed position  value  age  \n43            678       CB    5.0   18  \n22           1668       CB   45.0   28  \n28            847       CB   17.5   26  \n96           1216       LB    8.0   25  \n65           1314       RB   12.0   20  \n94            484       RB    5.0   18  \n25           2256       CB   60.0   28  \n57           2707       CB    5.0   25  \n66           1774       CB   18.0   18  \n40            569       LB   18.0   23  ",
      "text/html": "<div>\n<style scoped>\n    .dataframe tbody tr th:only-of-type {\n        vertical-align: middle;\n    }\n\n    .dataframe tbody tr th {\n        vertical-align: top;\n    }\n\n    .dataframe thead th {\n        text-align: right;\n    }\n</style>\n<table border=\"1\" class=\"dataframe\">\n  <thead>\n    <tr style=\"text-align: right;\">\n      <th></th>\n      <th>shortName</th>\n      <th>teamName</th>\n      <th>interceptions_adjusted_per90</th>\n      <th>minutesPlayed</th>\n      <th>position</th>\n      <th>value</th>\n      <th>age</th>\n    </tr>\n  </thead>\n  <tbody>\n    <tr>\n      <th>43</th>\n      <td>D. Zagadou</td>\n      <td>Borussia Dortmund</td>\n      <td>2.274931</td>\n      <td>678</td>\n      <td>CB</td>\n      <td>5.0</td>\n      <td>18</td>\n    </tr>\n    <tr>\n      <th>22</th>\n      <td>J. Boateng</td>\n      <td>Bayern M\\u00fcnchen</td>\n      <td>1.912228</td>\n      <td>1668</td>\n      <td>CB</td>\n      <td>45.0</td>\n      <td>28</td>\n    </tr>\n    <tr>\n      <th>28</th>\n      <td>Bartra</td>\n      <td>Real Betis</td>\n      <td>1.865074</td>\n      <td>847</td>\n      <td>CB</td>\n      <td>17.5</td>\n      <td>26</td>\n    </tr>\n    <tr>\n      <th>96</th>\n      <td>M. Halstenberg</td>\n      <td>RB Leipzig</td>\n      <td>1.826953</td>\n      <td>1216</td>\n      <td>LB</td>\n      <td>8.0</td>\n      <td>25</td>\n    </tr>\n    <tr>\n      <th>65</th>\n      <td>B. Henrichs</td>\n      <td>Bayer Leverkusen</td>\n      <td>1.632233</td>\n      <td>1314</td>\n      <td>RB</td>\n      <td>12.0</td>\n      <td>20</td>\n    </tr>\n    <tr>\n      <th>94</th>\n      <td>R. Oxford</td>\n      <td>Borussia M'gladbach</td>\n      <td>1.584711</td>\n      <td>484</td>\n      <td>RB</td>\n      <td>5.0</td>\n      <td>18</td>\n    </tr>\n    <tr>\n      <th>25</th>\n      <td>M. Hummels</td>\n      <td>Bayern M\\u00fcnchen</td>\n      <td>1.579069</td>\n      <td>2256</td>\n      <td>CB</td>\n      <td>60.0</td>\n      <td>28</td>\n    </tr>\n    <tr>\n      <th>57</th>\n      <td>K. Papadopoulos</td>\n      <td>Hamburger SV</td>\n      <td>1.534349</td>\n      <td>2707</td>\n      <td>CB</td>\n      <td>5.0</td>\n      <td>25</td>\n    </tr>\n    <tr>\n      <th>66</th>\n      <td>P. Retsos</td>\n      <td>Bayer Leverkusen</td>\n      <td>1.439662</td>\n      <td>1774</td>\n      <td>CB</td>\n      <td>18.0</td>\n      <td>18</td>\n    </tr>\n    <tr>\n      <th>40</th>\n      <td>Rapha\\u00ebl Guerreiro</td>\n      <td>Borussia Dortmund</td>\n      <td>1.439266</td>\n      <td>569</td>\n      <td>LB</td>\n      <td>18.0</td>\n      <td>23</td>\n    </tr>\n  </tbody>\n</table>\n</div>"
     },
     "execution_count": 3,
     "metadata": {},
     "output_type": "execute_result"
    }
   ],
   "source": [
    "targets = df.sort_values(\"interceptions_adjusted_per90\", ascending=False).iloc[:10][['shortName','teamName','interceptions_adjusted_per90','minutesPlayed']]\n",
    "targets['position'] = ['CB','CB','CB','LB','RB','RB','CB','CB','CB','LB']\n",
    "targets['value'] = [5,45,17.5,8,12,5,60,5,18,18]\n",
    "targets['age'] = [18,28,26,25,20,18,28,25,18,23]\n",
    "targets"
   ],
   "metadata": {
    "collapsed": false,
    "pycharm": {
     "name": "#%%\n"
    }
   }
  },
  {
   "cell_type": "code",
   "execution_count": null,
   "outputs": [],
   "source": [
    "def create_radar(player,position,value,age,team):\n",
    "    player_df = df.loc[df[\"shortName\"] == player]\n",
    "    player_df = player_df[[\"minutesPlayed\",\"foul_per_won_duel_own_half\",\"interceptions_adjusted_per90\",\"air_duels_won%\",\"ground_duels_won%\",\"won_vs_dribbles%\"]]\n",
    "    nineties = round(player_df.iloc[0,0]/90,2)\n",
    "    player_columns = player_df.columns[1:]\n",
    "    player_values = [round(player_df[column].iloc[0],2) for column in player_columns]\n",
    "    percentiles = [int(stats.percentileofscore(df[column], player_df[column].iloc[0])) for column in player_columns]\n",
    "    percentiles[0] = 100 - percentiles[0]\n",
    "\n",
    "    #list of names on plots\n",
    "    names = [\"Fouls per won Duel in own Half\", \"Interceptions (possession adjusted per 90)\", \"Air Duels Win Rate\", \"Ground Duels Win Rate\", \"Success rate defending vs Dribbles\"]\n",
    "    slice_colors = [\"#005DAA\"] * 5\n",
    "    text_colors = [\"#005DAA\"]*5\n",
    "    textbox_colors = [\"white\"]*5\n",
    "    font_normal = FontManager((\"https://github.com/google/fonts/blob/main/apache/roboto/\"\n",
    "                               \"Roboto%5Bwdth,wght%5D.ttf?raw=true\"))\n",
    "    font_bold = FontManager((\"https://github.com/google/fonts/blob/main/apache/robotoslab/\"\n",
    "                             \"RobotoSlab%5Bwght%5D.ttf?raw=true\"))\n",
    "    #PIZZA PLOT\n",
    "    baker = PyPizza(\n",
    "        params=names,\n",
    "        min_range = None,\n",
    "        max_range = None,               # list of parameters\n",
    "        background_color=\"white\",\n",
    "        straight_line_color=\"#005DAA\",  # color for straight lines\n",
    "        straight_line_lw=1,             # linewidth for straight lines\n",
    "        last_circle_color=\"#005DAA\",\n",
    "        last_circle_lw=1,               # linewidth of last circle\n",
    "        other_circle_color=\"#005DAA\",\n",
    "        other_circle_lw=1,              # linewidth for other circles\n",
    "        other_circle_ls=\"-.\"            # linestyle for other circles\n",
    "    )\n",
    "\n",
    "    #making pizza for our data\n",
    "    fig, ax = baker.make_pizza(\n",
    "        percentiles,              # list of values\n",
    "        figsize=(5, 5),      # adjust figsize according to your need\n",
    "        param_location=110,\n",
    "        slice_colors=slice_colors,\n",
    "        value_colors = text_colors,\n",
    "        value_bck_colors=textbox_colors, # where the parameters will be added\n",
    "        #        color_blank_space=[\"#005DAA\"]*5,\n",
    "        #        blank_alpha=1,\n",
    "        kwargs_slices=dict(\n",
    "            facecolor=\"#005DAA\", edgecolor=\"white\",\n",
    "            zorder=2, linewidth=1\n",
    "        ),                   # values to be used when plotting slices\n",
    "        kwargs_params=dict(\n",
    "            color=\"#005DAA\", fontsize=18,\n",
    "            fontproperties=font_normal.prop, va=\"center\"\n",
    "        ),                   # values to be used when adding parameter\n",
    "        kwargs_values=dict(\n",
    "            color=\"#005DAA\", fontsize=18,\n",
    "            fontproperties=font_normal.prop, zorder=3,\n",
    "            bbox=dict(\n",
    "                facecolor=\"white\",edgecolor=\"#005DAA\",\n",
    "                boxstyle=\"round,pad=0.2\", lw=1\n",
    "            )\n",
    "        )                    # values to be used when adding parameter-values\n",
    "    )\n",
    "\n",
    "    #putting text\n",
    "    texts = baker.get_value_texts()\n",
    "    for i, text in enumerate(texts):\n",
    "        text.set_text(str(player_values[i]))\n",
    "    # add title\n",
    "    fig.text(\n",
    "        0.515, 0.98, f\"{player} ({age}) - {position} - {value}M€ - {nineties} 90s played -  Defensive Stats\", size=30,\n",
    "        ha=\"center\", fontproperties=font_bold.prop, color=\"#005DAA\"\n",
    "    )\n",
    "\n",
    "    # add subtitle\n",
    "    fig.text(\n",
    "        0.515, 0.942,\n",
    "        f\"{team} - Bundesliga | Season 2017-18\",\n",
    "        size=21,\n",
    "        ha=\"center\", fontproperties=font_bold.prop, color=\"#005DAA\"\n",
    "    )\n",
    "    plt.savefig(f\"{player}_radar.png\")\n",
    "    plt.show()"
   ],
   "metadata": {
    "collapsed": false,
    "pycharm": {
     "name": "#%%\n"
    }
   }
  },
  {
   "cell_type": "code",
   "execution_count": null,
   "outputs": [],
   "source": [
    "create_radar(\"M. Halstenberg\",\"LB\",8,25,\"RB Leipzig\")"
   ],
   "metadata": {
    "collapsed": false,
    "pycharm": {
     "name": "#%%\n"
    }
   }
  },
  {
   "cell_type": "code",
   "execution_count": null,
   "outputs": [],
   "source": [
    "create_radar(\"R. Oxford\",\"RB\",5,18,\"Borussia M'Gladbach\")"
   ],
   "metadata": {
    "collapsed": false,
    "pycharm": {
     "name": "#%%\n"
    }
   }
  },
  {
   "cell_type": "code",
   "execution_count": null,
   "outputs": [],
   "source": [],
   "metadata": {
    "collapsed": false,
    "pycharm": {
     "name": "#%%\n"
    }
   }
  }
 ],
 "metadata": {
  "kernelspec": {
   "display_name": "Python 3",
   "language": "python",
   "name": "python3"
  },
  "language_info": {
   "codemirror_mode": {
    "name": "ipython",
    "version": 2
   },
   "file_extension": ".py",
   "mimetype": "text/x-python",
   "name": "python",
   "nbconvert_exporter": "python",
   "pygments_lexer": "ipython2",
   "version": "2.7.6"
  }
 },
 "nbformat": 4,
 "nbformat_minor": 0
}